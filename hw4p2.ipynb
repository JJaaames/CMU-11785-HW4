{
 "cells": [
  {
   "cell_type": "code",
   "execution_count": 1,
   "metadata": {},
   "outputs": [],
   "source": [
    "import torch"
   ]
  },
  {
   "cell_type": "code",
   "execution_count": 2,
   "metadata": {},
   "outputs": [],
   "source": [
    "from torch.nn import LSTMCell"
   ]
  },
  {
   "cell_type": "code",
   "execution_count": 3,
   "metadata": {},
   "outputs": [],
   "source": [
    "a = LSTMCell(4, 6, bias = False)"
   ]
  },
  {
   "cell_type": "code",
   "execution_count": 7,
   "metadata": {},
   "outputs": [],
   "source": [
    "b = torch.ones((4, 4))"
   ]
  },
  {
   "cell_type": "code",
   "execution_count": 11,
   "metadata": {},
   "outputs": [],
   "source": [
    "from torch import nn"
   ]
  },
  {
   "cell_type": "code",
   "execution_count": 12,
   "metadata": {},
   "outputs": [],
   "source": [
    "class model(nn.Module):\n",
    "    def __init__(self):\n",
    "        super(model, self).__init__()\n",
    "        \n",
    "        "
   ]
  },
  {
   "cell_type": "code",
   "execution_count": 13,
   "metadata": {},
   "outputs": [],
   "source": [
    "model = model()"
   ]
  },
  {
   "cell_type": "code",
   "execution_count": 16,
   "metadata": {},
   "outputs": [],
   "source": [
    "a = torch.ones((10))"
   ]
  },
  {
   "cell_type": "code",
   "execution_count": 17,
   "metadata": {},
   "outputs": [
    {
     "data": {
      "text/plain": [
       "tensor([1., 1., 1., 1., 1., 1., 1., 1., 1., 1.])"
      ]
     },
     "execution_count": 17,
     "metadata": {},
     "output_type": "execute_result"
    }
   ],
   "source": [
    "a.to('cpu')"
   ]
  },
  {
   "cell_type": "code",
   "execution_count": 24,
   "metadata": {},
   "outputs": [],
   "source": [
    "gumbel = torch.distributions.gumbel.Gumbel(0, 1)"
   ]
  },
  {
   "cell_type": "code",
   "execution_count": 31,
   "metadata": {},
   "outputs": [],
   "source": [
    "import torch.nn.functional as F"
   ]
  },
  {
   "cell_type": "code",
   "execution_count": 35,
   "metadata": {},
   "outputs": [
    {
     "data": {
      "text/plain": [
       "tensor([-0.7424,  0.0223,  0.0226,  1.7282,  0.1483,  1.3540,  2.1781,  1.0896,\n",
       "         0.7863, -0.6062])"
      ]
     },
     "execution_count": 35,
     "metadata": {},
     "output_type": "execute_result"
    }
   ],
   "source": [
    "gumbel.sample(torch.tensor([10]))"
   ]
  },
  {
   "cell_type": "code",
   "execution_count": 34,
   "metadata": {},
   "outputs": [
    {
     "data": {
      "text/plain": [
       "tensor([    nan, -0.6567, -0.9721,     nan,  0.9123,     nan, -1.1902,     nan,\n",
       "            nan,  0.2591])"
      ]
     },
     "execution_count": 34,
     "metadata": {},
     "output_type": "execute_result"
    }
   ],
   "source": [
    "-torch.log(gumbel.sample(torch.tensor([10])))"
   ]
  },
  {
   "cell_type": "code",
   "execution_count": 52,
   "metadata": {},
   "outputs": [],
   "source": [
    "probs = np.random.randint(low=1, high=20, size=n_cats)"
   ]
  },
  {
   "cell_type": "code",
   "execution_count": 54,
   "metadata": {},
   "outputs": [],
   "source": [
    "probs = np.random.randint(low=1, high=20, size=n_cats)\n",
    "probs = probs / sum(probs)\n",
    "logits = np.log(probs)"
   ]
  },
  {
   "cell_type": "code",
   "execution_count": 55,
   "metadata": {},
   "outputs": [
    {
     "data": {
      "text/plain": [
       "array([-2.43361336, -2.65675691, -4.04305127, -1.27046255, -2.65675691,\n",
       "       -1.55814462, -1.33500107])"
      ]
     },
     "execution_count": 55,
     "metadata": {},
     "output_type": "execute_result"
    }
   ],
   "source": [
    "logits"
   ]
  },
  {
   "cell_type": "code",
   "execution_count": 40,
   "metadata": {},
   "outputs": [
    {
     "data": {
      "image/png": "[encoded data removed]",
      "text/plain": [
       "<Figure size 432x288 with 1 Axes>"
      ]
     },
     "metadata": {
      "needs_background": "light"
     },
     "output_type": "display_data"
    }
   ],
   "source": [
    "import numpy as np\n",
    "import matplotlib.pyplot as plt\n",
    "\n",
    "n_cats = 7\n",
    "cats = np.arange(n_cats)\n",
    "probs = np.random.randint(low=1, high=20, size=n_cats)\n",
    "probs = probs / sum(probs)\n",
    "logits = np.log(probs)\n",
    "def plot_probs():\n",
    "    plt.bar(cats, probs)\n",
    "    plt.xlabel(\"Category\")\n",
    "    plt.ylabel(\"Probability\")\n",
    "plt.figure()\n",
    "plot_probs()"
   ]
  },
  {
   "cell_type": "code",
   "execution_count": 46,
   "metadata": {},
   "outputs": [
    {
     "data": {
      "image/png": "[encoded data removed]",
      "text/plain": [
       "<Figure size 432x288 with 2 Axes>"
      ]
     },
     "metadata": {
      "needs_background": "light"
     },
     "output_type": "display_data"
    }
   ],
   "source": [
    "n_samples = 1000\n",
    "def plot_estimated_probs(samples,ylabel=''):\n",
    "    n_cats = np.max(samples)+1\n",
    "    estd_probs,_,_ = plt.hist(samples,bins=np.arange(n_cats+1),align='left',edgecolor='white',density=True)\n",
    "    plt.xlabel('Category')\n",
    "    plt.ylabel(ylabel+'Estimated probability')\n",
    "    return estd_probs\n",
    "# def print_probs(probs):\n",
    "#     print('  '.join(['{:.2f}']len(probs)).format(`probs))\n",
    "\n",
    "samples = np.random.choice(cats,p=probs,size=n_samples) \n",
    "\n",
    "plt.figure()\n",
    "plt.subplot(1,2,1)\n",
    "plot_probs()\n",
    "plt.subplot(1,2,2)\n",
    "estd_probs = plot_estimated_probs(samples)\n",
    "plt.tight_layout()#紧凑显示图片\n",
    "\n",
    "# print('Original probabilities:\\t\\t',end='')\n",
    "# print_probs(probs)\n",
    "# print('Estimated probabilities:\\t',end='')\n",
    "# print_probs(estd_probs)"
   ]
  },
  {
   "cell_type": "code",
   "execution_count": 51,
   "metadata": {},
   "outputs": [
    {
     "data": {
      "text/plain": [
       "array([-1.91364929, -2.31911439, -1.91364929, -1.62596721, -3.01226158,\n",
       "       -1.91364929, -1.54592451])"
      ]
     },
     "execution_count": 51,
     "metadata": {},
     "output_type": "execute_result"
    }
   ],
   "source": [
    "logits"
   ]
  },
  {
   "cell_type": "code",
   "execution_count": 65,
   "metadata": {},
   "outputs": [
    {
     "data": {
      "text/plain": [
       "array([ 1.65404858,  0.2598737 ,  0.13223037, -1.56703905,  0.99010222,\n",
       "        1.05099412,  0.65182273])"
      ]
     },
     "execution_count": 65,
     "metadata": {},
     "output_type": "execute_result"
    }
   ],
   "source": [
    "np.random.gumbel(size=len(logits))"
   ]
  },
  {
   "cell_type": "code",
   "execution_count": 71,
   "metadata": {},
   "outputs": [],
   "source": [
    "c = gumbel.sample(torch.tensor([10, len(logits)]))"
   ]
  },
  {
   "cell_type": "code",
   "execution_count": 49,
   "metadata": {},
   "outputs": [],
   "source": [
    "def sample_gumbel(logits):\n",
    "    noise = np.random.gumbel(size=len(logits))\n",
    "    sample = np.argmax(logits+noise)\n",
    "    return sample\n",
    "gumbel_samples = [sample_gumbel(logits) for _ in range(n_samples)]\n",
    "\n",
    "# def sample_uniform(logits):\n",
    "#     noise = np.random.uniform(size=len(logits))\n",
    "#     sample = np.argmax(logits+noise)\n",
    "#     return sample\n",
    "# uniform_samples = [sample_uniform(logits) for _ in range(n_samples)]\n",
    "\n",
    "# def sample_normal(logits):\n",
    "#     noise = np.random.normal(size=len(logits))\n",
    "#     sample = np.argmax(logits+noise)\n",
    "#     return sample\n",
    "# normal_samples = [sample_normal(logits) for _ in range(n_samples)]\n",
    "\n",
    "# plt.figure(figsize=(10,4))\n",
    "# plt.subplot(1,4,1)\n",
    "# plot_probs()\n",
    "# plt.subplot(1,4,2)\n",
    "# gumbel_estd_probs = plot_estimated_probs(gumbel_samples,'Gumbel ')\n",
    "# plt.subplot(1,4,3)\n",
    "# normal_estd_probs = plot_estimated_probs(normal_samples,'Normal ')\n",
    "# plt.subplot(1,4,4)\n",
    "# uniform_estd_probs = plot_estimated_probs(uniform_samples,'Uniform ')\n",
    "# plt.tight_layout()\n",
    "\n",
    "# print('Original probabilities:\\t\\t',end='')\n",
    "# print_probs(probs)\n",
    "# print('Gumbel Estimated probabilities:\\t',end='')\n",
    "# print_probs(gumbel_estd_probs)\n",
    "# print('Normal Estimated probabilities:\\t',end='')\n",
    "# print_probs(normal_estd_probs)\n",
    "# print('Uniform Estimated probabilities:',end='')\n",
    "# print_probs(uniform_estd_probs)"
   ]
  },
  {
   "cell_type": "code",
   "execution_count": 74,
   "metadata": {},
   "outputs": [],
   "source": [
    "import random"
   ]
  },
  {
   "cell_type": "code",
   "execution_count": 77,
   "metadata": {},
   "outputs": [],
   "source": [
    "criterion = nn.CrossEntropyLoss()"
   ]
  },
  {
   "cell_type": "code",
   "execution_count": 79,
   "metadata": {},
   "outputs": [],
   "source": [
    "criterion??"
   ]
  },
  {
   "cell_type": "code",
   "execution_count": 104,
   "metadata": {},
   "outputs": [],
   "source": [
    "nn.CrossEntropyLoss??"
   ]
  },
  {
   "cell_type": "code",
   "execution_count": 120,
   "metadata": {},
   "outputs": [],
   "source": [
    "loss = nn.CrossEntropyLoss(reduction = 'none')\n",
    "input = torch.randn(2, 3, 2, requires_grad=True)\n",
    "target = torch.empty(2, 2, dtype=torch.long).random_(3)\n",
    "output = loss(input, target)\n"
   ]
  },
  {
   "cell_type": "code",
   "execution_count": 134,
   "metadata": {},
   "outputs": [
    {
     "data": {
      "text/plain": [
       "tensor(1.3957, grad_fn=<MeanBackward0>)"
      ]
     },
     "execution_count": 134,
     "metadata": {},
     "output_type": "execute_result"
    }
   ],
   "source": [
    "output.mean()"
   ]
  },
  {
   "cell_type": "code",
   "execution_count": 135,
   "metadata": {},
   "outputs": [
    {
     "data": {
      "text/plain": [
       "tensor([[1.3584, 2.6990],\n",
       "        [0.2326, 1.2929]], grad_fn=<ViewBackward>)"
      ]
     },
     "execution_count": 135,
     "metadata": {},
     "output_type": "execute_result"
    }
   ],
   "source": [
    "output"
   ]
  },
  {
   "cell_type": "code",
   "execution_count": 137,
   "metadata": {},
   "outputs": [
    {
     "data": {
      "text/plain": [
       "torch.Size([2, 3, 2])"
      ]
     },
     "execution_count": 137,
     "metadata": {},
     "output_type": "execute_result"
    }
   ],
   "source": [
    "input.shape"
   ]
  },
  {
   "cell_type": "code",
   "execution_count": 139,
   "metadata": {},
   "outputs": [
    {
     "data": {
      "text/plain": [
       "tensor(1.3957, grad_fn=<NllLoss2DBackward>)"
      ]
     },
     "execution_count": 139,
     "metadata": {},
     "output_type": "execute_result"
    }
   ],
   "source": [
    "criterion(input, target)"
   ]
  }
 ],
 "metadata": {
  "file_extension": ".py",
  "kernelspec": {
   "display_name": "Python 3",
   "language": "python",
   "name": "python3"
  },
  "language_info": {
   "codemirror_mode": {
    "name": "ipython",
    "version": 3
   },
   "file_extension": ".py",
   "mimetype": "text/x-python",
   "name": "python",
   "nbconvert_exporter": "python",
   "pygments_lexer": "ipython3",
   "version": "3.7.3"
  },
  "mimetype": "text/x-python",
  "name": "python",
  "npconvert_exporter": "python",
  "pygments_lexer": "ipython3",
  "version": 3
 },
 "nbformat": 4,
 "nbformat_minor": 2
}
